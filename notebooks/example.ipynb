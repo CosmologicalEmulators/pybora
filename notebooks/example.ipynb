{
 "cells": [
  {
   "attachments": {},
   "cell_type": "markdown",
   "metadata": {},
   "source": [
    "# `pybora` usage example\n",
    "\n",
    "In this notebook, we'll show how to use `pybora` to predict the correlation functions.\n",
    "\n",
    "## Loading relevant libraries\n",
    "\n",
    "The first step is to import the relevant libraries"
   ]
  },
  {
   "cell_type": "code",
   "execution_count": null,
   "metadata": {},
   "outputs": [],
   "source": [
    "import numpy as np\n",
    "import pybora as pb\n",
    "import matplotlib.pyplot as plt\n",
    "plt.rc('text', usetex=True)\n",
    "plt.rc('font', family='serif')"
   ]
  },
  {
   "attachments": {},
   "cell_type": "markdown",
   "metadata": {},
   "source": [
    "## Loading the trained emulator\n",
    "After succesfully loading `pybora`, we need to load the trained emulator"
   ]
  },
  {
   "cell_type": "code",
   "execution_count": null,
   "metadata": {},
   "outputs": [],
   "source": [
    "pre_emu = pb.load_emu(\"/home/marcobonici/Desktop/CosmologicalEmulators/Bora_analysis/notebooks/emulator_Bora_pre.bson\")"
   ]
  },
  {
   "attachments": {},
   "cell_type": "markdown",
   "metadata": {},
   "source": [
    "## Running the code\n",
    "Now we can actually run the code!"
   ]
  },
  {
   "cell_type": "code",
   "execution_count": null,
   "metadata": {},
   "outputs": [],
   "source": [
    "rgrid = pb.get_rgrid(pre_emu)\n",
    "cosmo = np.array([2.33946, 0.81434, 0.9847, 8.7632941, 5.71979, 0.19809])\n",
    "broad_band = np.zeros(9)\n",
    "test = pb.compute_Xils(cosmo, broad_band, pre_emu)\n",
    "%timeit pb.compute_Xils(cosmo, broad_band, pre_emu)"
   ]
  },
  {
   "attachments": {},
   "cell_type": "markdown",
   "metadata": {},
   "source": [
    "Let's plot the result of our calculations."
   ]
  },
  {
   "cell_type": "code",
   "execution_count": null,
   "metadata": {},
   "outputs": [],
   "source": [
    "plt.plot(rgrid, rgrid**2*test[0,:], label = \"Monopole\")\n",
    "plt.plot(rgrid, rgrid**2*test[1,:], label = \"Quadrupole\")\n",
    "plt.plot(rgrid, rgrid**2*test[2,:], label = 'Hexadecapole')\n",
    "plt.xlabel(r'$r$ [Mpc/h]')\n",
    "plt.ylabel(r'$r^2\\xi$ [h/Mpc]$^2$')\n",
    "plt.legend()"
   ]
  },
  {
   "cell_type": "code",
   "execution_count": null,
   "metadata": {},
   "outputs": [],
   "source": []
  }
 ],
 "metadata": {
  "kernelspec": {
   "display_name": "base",
   "language": "python",
   "name": "python3"
  },
  "language_info": {
   "codemirror_mode": {
    "name": "ipython",
    "version": 3
   },
   "file_extension": ".py",
   "mimetype": "text/x-python",
   "name": "python",
   "nbconvert_exporter": "python",
   "pygments_lexer": "ipython3",
   "version": "3.9.12"
  },
  "orig_nbformat": 4,
  "vscode": {
   "interpreter": {
    "hash": "ffb3864cfd2b79de257e0768de565ff37bc4804afc9fc955831199105acbdaee"
   }
  }
 },
 "nbformat": 4,
 "nbformat_minor": 2
}
